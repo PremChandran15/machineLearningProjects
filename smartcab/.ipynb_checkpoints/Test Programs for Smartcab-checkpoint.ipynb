{
 "cells": [
  {
   "cell_type": "code",
   "execution_count": 1,
   "metadata": {
    "collapsed": true
   },
   "outputs": [],
   "source": [
    "import matplotlib.pyplot as plt\n",
    "import numpy as np\n",
    "import pandas as pd\n",
    "import os\n",
    "import ast"
   ]
  },
  {
   "cell_type": "code",
   "execution_count": 3,
   "metadata": {},
   "outputs": [],
   "source": [
    "data = pd.read_csv(os.path.join(\"logs\", 'sim_no-learning.csv'))"
   ]
  },
  {
   "cell_type": "code",
   "execution_count": 11,
   "metadata": {},
   "outputs": [
    {
     "data": {
      "text/plain": [
       "0    -12.937516\n",
       "1     -0.434048\n",
       "2     -6.080473\n",
       "3     -4.760014\n",
       "4     -3.920250\n",
       "5     -3.372207\n",
       "6     -4.376419\n",
       "7     -2.527360\n",
       "8     -2.478747\n",
       "9     -2.956945\n",
       "10    -8.510437\n",
       "11    -4.219199\n",
       "12    -1.760614\n",
       "13    -2.179042\n",
       "14    -3.051794\n",
       "15    -0.605614\n",
       "16    -0.571002\n",
       "17    -2.306092\n",
       "18    -6.643746\n",
       "19    -3.468075\n",
       "20    -5.318445\n",
       "21    -4.414274\n",
       "22    -7.440995\n",
       "23    -3.936372\n",
       "24    -5.378256\n",
       "25    -3.835104\n",
       "26    -6.333567\n",
       "27    -4.223663\n",
       "28    -5.552909\n",
       "29    -2.874944\n",
       "dtype: float64"
      ]
     },
     "execution_count": 11,
     "metadata": {},
     "output_type": "execute_result"
    }
   ],
   "source": [
    "#data['average_reward'] = (data['net_reward'] / (data['initial_deadline'] - data['final_deadline']))\\\n",
    "#.rolling(window=10, center=False).mean()\n",
    "(data['net_reward']/(data['initial_deadline'] - data['final_deadline']))"
   ]
  },
  {
   "cell_type": "markdown",
   "metadata": {},
   "source": [
    "#### From here, what you can see is pd.rolling literally takes that window span and sums that up.. and then when you take mean(), it finds the mean of window 0-9.. refer here \n",
    "[Pandas Rolling Objects](https://stackoverflow.com/questions/45254174/how-do-pandas-rolling-objects-work)"
   ]
  },
  {
   "cell_type": "code",
   "execution_count": 12,
   "metadata": {},
   "outputs": [
    {
     "data": {
      "text/plain": [
       "0          NaN\n",
       "1          NaN\n",
       "2          NaN\n",
       "3          NaN\n",
       "4          NaN\n",
       "5          NaN\n",
       "6          NaN\n",
       "7          NaN\n",
       "8          NaN\n",
       "9    -4.384398\n",
       "10   -3.941690\n",
       "11   -4.320205\n",
       "12   -3.888219\n",
       "13   -3.630122\n",
       "14   -3.543277\n",
       "15   -3.266617\n",
       "16   -2.886076\n",
       "17   -2.863949\n",
       "18   -3.280449\n",
       "19   -3.331562\n",
       "20   -3.012362\n",
       "21   -3.031870\n",
       "22   -3.599908\n",
       "23   -3.775641\n",
       "24   -4.008287\n",
       "25   -4.331236\n",
       "26   -4.907493\n",
       "27   -5.099250\n",
       "28   -4.990166\n",
       "29   -4.930853\n",
       "dtype: float64"
      ]
     },
     "execution_count": 12,
     "metadata": {},
     "output_type": "execute_result"
    }
   ],
   "source": [
    "(data['net_reward']/(data['initial_deadline'] - data['final_deadline'])).rolling(window=10, center=False).mean()"
   ]
  },
  {
   "cell_type": "code",
   "execution_count": 18,
   "metadata": {},
   "outputs": [
    {
     "data": {
      "text/plain": [
       "0          NaN\n",
       "1          NaN\n",
       "2          NaN\n",
       "3          NaN\n",
       "4          NaN\n",
       "5          NaN\n",
       "6          NaN\n",
       "7          NaN\n",
       "8          NaN\n",
       "9     0.628303\n",
       "10    0.648859\n",
       "11    0.645287\n",
       "12    0.638287\n",
       "13    0.646287\n",
       "14    0.649620\n",
       "15    0.673620\n",
       "16    0.696954\n",
       "17    0.696954\n",
       "18    0.686954\n",
       "19    0.688317\n",
       "20    0.689429\n",
       "21    0.662000\n",
       "22    0.654000\n",
       "23    0.648000\n",
       "24    0.630667\n",
       "25    0.606667\n",
       "26    0.576667\n",
       "27    0.575303\n",
       "28    0.580303\n",
       "29    0.580303\n",
       "dtype: float64"
      ]
     },
     "execution_count": 18,
     "metadata": {},
     "output_type": "execute_result"
    }
   ],
   "source": [
    "# this is a rolling relative frequency.. If you want a average/frequency for each trial within the given time limit, then you have to remove the .rolling\n",
    "# portion. It's literally a comparison of the past 10 average/frequency within the given time limit\n",
    "((data['actions'].apply(lambda x: ast.literal_eval(x)[0]))*1.0/\\\n",
    "(data['initial_deadline'] - data['final_deadline'])).rolling(window=10, center=False).mean()\n"
   ]
  },
  {
   "cell_type": "code",
   "execution_count": null,
   "metadata": {
    "collapsed": true
   },
   "outputs": [],
   "source": []
  }
 ],
 "metadata": {
  "kernelspec": {
   "display_name": "Python 2",
   "language": "python",
   "name": "python2"
  },
  "language_info": {
   "codemirror_mode": {
    "name": "ipython",
    "version": 2
   },
   "file_extension": ".py",
   "mimetype": "text/x-python",
   "name": "python",
   "nbconvert_exporter": "python",
   "pygments_lexer": "ipython2",
   "version": "2.7.14"
  }
 },
 "nbformat": 4,
 "nbformat_minor": 2
}
